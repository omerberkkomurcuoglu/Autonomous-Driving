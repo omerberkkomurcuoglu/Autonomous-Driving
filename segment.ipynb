{
 "cells": [
  {
   "cell_type": "markdown",
   "id": "ecaa1ab1",
   "metadata": {},
   "source": [
    "Dataset'in eğitilip test resimleriyle tahmin edildiği jupyter dosyası\n"
   ]
  },
  {
   "cell_type": "code",
   "execution_count": 1,
   "id": "ebe26e33",
   "metadata": {},
   "outputs": [],
   "source": [
    "# !yolo segment train model=yolov8l-seg.pt data=data/data.yaml imgsz=640 workers=8 batch=8 device=0 epochs=50 name=yolov8_road_segmentation"
   ]
  },
  {
   "cell_type": "code",
   "execution_count": 2,
   "id": "829cb0e6",
   "metadata": {},
   "outputs": [],
   "source": [
    "# !yolo detect predict model=yolov8n.pt source='https://ultralytics.com/images/bus.jpg'"
   ]
  },
  {
   "cell_type": "code",
   "execution_count": null,
   "id": "b73858dd",
   "metadata": {},
   "outputs": [
    {
     "name": "stdout",
     "output_type": "stream",
     "text": [
      "\n"
     ]
    }
   ],
   "source": [
    "\n",
    "\n",
    "import cv2\n",
    "import numpy as np\n",
    "from ultralytics import YOLO\n",
    "\n",
    "img_path = \"inference/1.jpg\"\n",
    "model_path = \"weights/road_segmentation.pt\"\n",
    "\n",
    "#  Görüntüyü cv2 ile ekliyoruz \n",
    "img = cv2.imread(img_path)\n",
    "# Ağırlık dosyasını yolo ya yüklüyoruz\n",
    "model = YOLO(model_path)\n",
    "# model'e resmi atıp tahmin ettiriyoruz\n",
    "results = model(img)[0]\n",
    "\n",
    "# Tahmin değerlerine göre mask uyguluyoruz\n",
    "mask = results.masks.data[0].cpu().numpy()\n",
    "mask_uint8 = (mask * 255).astype(np.uint8)\n",
    "\n",
    "# Maske boyutunu orijinal resim boyutuna getir\n",
    "mask_resized = cv2.resize(mask_uint8, (img.shape[1], img.shape[0]))\n",
    "\n",
    "# Renkli maske oluştur (kırmızı)\n",
    "color_mask = np.zeros_like(img)\n",
    "color_mask[:, :, 2] = mask_resized  # Kırmızı kanal\n",
    "\n",
    "# Orijinal resim + maske karışımı\n",
    "overlay = cv2.addWeighted(img, 1, color_mask, 0.5, 0)\n",
    "\n",
    "cv2.imshow(\"Overlay\", overlay)\n",
    "cv2.waitKey(0)\n",
    "cv2.destroyAllWindows()\n",
    "\n"
   ]
  }
 ],
 "metadata": {
  "kernelspec": {
   "display_name": "yolo-env",
   "language": "python",
   "name": "python3"
  },
  "language_info": {
   "codemirror_mode": {
    "name": "ipython",
    "version": 3
   },
   "file_extension": ".py",
   "mimetype": "text/x-python",
   "name": "python",
   "nbconvert_exporter": "python",
   "pygments_lexer": "ipython3",
   "version": "3.12.10"
  }
 },
 "nbformat": 4,
 "nbformat_minor": 5
}
